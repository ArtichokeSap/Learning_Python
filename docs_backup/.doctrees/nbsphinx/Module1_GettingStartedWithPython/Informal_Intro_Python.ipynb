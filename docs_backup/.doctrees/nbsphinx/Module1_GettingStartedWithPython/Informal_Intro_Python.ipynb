{
 "cells": [
  {
   "cell_type": "raw",
   "id": "arabic-sender",
   "metadata": {
    "raw_mimetype": "text/restructuredtext"
   },
   "source": [
    ".. meta::\n",
    "   :description: Topic: Informal Introduction to Python, Difficulty: Easy, Category: Tutorial\n",
    "   :keywords: python, installation, script, introduction, ipython, console, quick introduction"
   ]
  },
  {
   "cell_type": "markdown",
   "id": "intellectual-monster",
   "metadata": {},
   "source": [
    "# An Informal Introduction to Python\n",
    "\n",
    "<div class=\"alert alert-warning\">\n",
    "\n",
    "**Before You Start This Section**: \n",
    "\n",
    "In the following section we will be using IPython or a Jupyter notebook to run our code.\n",
    "Presently, there is an incompatibility with these programs and a Python package called `jedi`, which typically is responsible for performing auto-completions in our code (when prompted by hitting `<TAB>`, which we will be doing below).\n",
    "It is really useful!\n",
    "\n",
    "First, let's check to see if we have an incompatible version of `jedi` installed.\n",
    "In your terminal (before starting a Python/IPython/Jupyter session), run\n",
    "    \n",
    "```\n",
    "conda list\n",
    "```\n",
    "\n",
    "And look for the line that starts with `jedi`\n",
    "    \n",
    "```\n",
    "jedi                      0.18.0\n",
    "```\n",
    "\n",
    "If you see that you have version `0.18.0` installed (as above), then you will want to downgrade it.\n",
    "In the same terminal, run the following command\n",
    "\n",
    "```\n",
    "conda install jedi=0.17.2\n",
    "```\n",
    "You should be all set once you have followed the prompts and the installation has completed!\n",
    "    \n",
    "Note that you will need to repeat this process if you [create a new conda environment](https://www.pythonlikeyoumeanit.com/Module1_GettingStartedWithPython/Installing_Python.html#A-Brief-Introduction-to-Conda-Environments) with IPython/Jupter installed in it.\n",
    "</div>\n",
    "\n",
    "Now that you have the Anaconda distribution of Python installed on your machine, let's write some simple Python code! We are going to forego writing a full Python script for now, and instead make use of a convenient tool for doing quick code scratchwork. The IPython console was installed as a part of Anaconda; it will allow us to build incrementally off of snippets of code, instead of having to execute an entire script all at once. \n",
    "\n",
    "Let's open an IPython console. Open your terminal if you are a Mac/Linux user, or start `cmd.exe` if you are a Windows user. Now type `ipython` into the console and hit `<Enter>`. You should see the following display on your screen:\n",
    "\n",
    "![IPython console example](attachments/ipython_0.PNG)\n",
    "\n",
    "We can type small pieces of Python code into this console, and then simply hit `<Enter>` to have the CPython interpreter execute our code immediately within the IPython console!\n",
    "\n",
    "Let's acquaint ourselves with Python's numbers, strings, and lists. In doing so, we will learn about the Python standard library, and how to make use of its modules, like the math module. IPython's autocompletion and documentation-display utilities will provide a nice means for exploring the library and the functionality built into the different types of Python objects. A quick glimpse at Python's strings and lists will hint at the common interface Python provides for working with sequences of objects, while highlighting some of the nice features of these all-important data types. \n",
    "\n",
    "## Dabbling with Numbers \n",
    "Time to execute some Python code that performs simple arithmetic. Typing `2 + 3` into the IPython console and hitting the `<ENTER>` key, you should see the following input and output in the console:"
   ]
  },
  {
   "cell_type": "code",
   "execution_count": 1,
   "id": "decreased-progress",
   "metadata": {
    "execution": {
     "iopub.execute_input": "2021-01-31T16:50:00.294095Z",
     "iopub.status.busy": "2021-01-31T16:50:00.294095Z",
     "iopub.status.idle": "2021-01-31T16:50:00.299092Z",
     "shell.execute_reply": "2021-01-31T16:50:00.298094Z"
    }
   },
   "outputs": [
    {
     "data": {
      "text/plain": [
       "5"
      ]
     },
     "execution_count": 1,
     "metadata": {},
     "output_type": "execute_result"
    }
   ],
   "source": [
    "2 + 3"
   ]
  },
  {
   "cell_type": "markdown",
   "id": "gorgeous-patch",
   "metadata": {},
   "source": [
    "This console session is persistent, meaning that we can define a variable and then reference it in our code later on within this console session. Let's define the variable `x` and assign it to the integer `10` (please follow along in the IPython console)"
   ]
  },
  {
   "cell_type": "code",
   "execution_count": 2,
   "id": "compound-crown",
   "metadata": {
    "execution": {
     "iopub.execute_input": "2021-01-31T16:50:00.303092Z",
     "iopub.status.busy": "2021-01-31T16:50:00.302069Z",
     "iopub.status.idle": "2021-01-31T16:50:00.314364Z",
     "shell.execute_reply": "2021-01-31T16:50:00.313334Z"
    }
   },
   "outputs": [],
   "source": [
    "x = 10"
   ]
  },
  {
   "cell_type": "markdown",
   "id": "varying-contributor",
   "metadata": {},
   "source": [
    "We can check the contents of `x` in this console by simply entering `x` in the next line and hitting `<ENTER>`:"
   ]
  },
  {
   "cell_type": "code",
   "execution_count": 3,
   "id": "changing-bicycle",
   "metadata": {
    "execution": {
     "iopub.execute_input": "2021-01-31T16:50:00.317335Z",
     "iopub.status.busy": "2021-01-31T16:50:00.316366Z",
     "iopub.status.idle": "2021-01-31T16:50:00.330526Z",
     "shell.execute_reply": "2021-01-31T16:50:00.329525Z"
    }
   },
   "outputs": [
    {
     "data": {
      "text/plain": [
       "10"
      ]
     },
     "execution_count": 1,
     "metadata": {},
     "output_type": "execute_result"
    }
   ],
   "source": [
    "x"
   ]
  },
  {
   "cell_type": "markdown",
   "id": "completed-beauty",
   "metadata": {},
   "source": [
    "Now, let's use `x` in a quadratic equation $x^{2} + 2x + 3$, and compute this total."
   ]
  },
  {
   "cell_type": "code",
   "execution_count": 4,
   "id": "bridal-blood",
   "metadata": {
    "execution": {
     "iopub.execute_input": "2021-01-31T16:50:00.333526Z",
     "iopub.status.busy": "2021-01-31T16:50:00.332555Z",
     "iopub.status.idle": "2021-01-31T16:50:00.346458Z",
     "shell.execute_reply": "2021-01-31T16:50:00.345458Z"
    }
   },
   "outputs": [
    {
     "data": {
      "text/plain": [
       "123"
      ]
     },
     "execution_count": 1,
     "metadata": {},
     "output_type": "execute_result"
    }
   ],
   "source": [
    "x**2 + 2*x + 3"
   ]
  },
  {
   "cell_type": "markdown",
   "id": "alpine-worth",
   "metadata": {},
   "source": [
    "Python's \"standard library\", the various tools and functions that come packaged as part of the core language, includes plenty of familiar mathematical functions. As a matter of organization, Python stores these mathematical functions away in a module named \"math\". To make use of this math module, we must import it into our code. "
   ]
  },
  {
   "cell_type": "code",
   "execution_count": 5,
   "id": "blank-ireland",
   "metadata": {
    "execution": {
     "iopub.execute_input": "2021-01-31T16:50:00.349457Z",
     "iopub.status.busy": "2021-01-31T16:50:00.348487Z",
     "iopub.status.idle": "2021-01-31T16:50:00.362028Z",
     "shell.execute_reply": "2021-01-31T16:50:00.361033Z"
    }
   },
   "outputs": [],
   "source": [
    "import math"
   ]
  },
  {
   "cell_type": "markdown",
   "id": "accepted-balance",
   "metadata": {},
   "source": [
    "Having imported it, the term `math` now refers to the math module in our code. IPython provides a nice way for us to see a list of all the functions that are provided by the math module. To utilize this, type into the console `math.` (note the trailing period) and then hit `<TAB>`. You should see this list appear:"
   ]
  },
  {
   "cell_type": "markdown",
   "id": "robust-honor",
   "metadata": {},
   "source": [
    "![Displaying the contents of the math module](attachments/ipython_math.PNG)"
   ]
  },
  {
   "cell_type": "markdown",
   "id": "homeless-somalia",
   "metadata": {},
   "source": [
    "In general, hitting `<TAB>` will cue IPython to try to autocomplete code for you. This menu displays all the valid things that you could type after `math.`. Looking at the functions starting with \"s\", we see `sqrt()`. This is the square root function. To see autocompletion in action, type `math.sq` and then hit `<TAB>`. You should see the code autocomplete to `math.sqrt`.\n",
    "\n",
    "Let's use this function to compute $\\sqrt{100}$:"
   ]
  },
  {
   "cell_type": "code",
   "execution_count": 6,
   "id": "preliminary-domain",
   "metadata": {
    "execution": {
     "iopub.execute_input": "2021-01-31T16:50:00.365028Z",
     "iopub.status.busy": "2021-01-31T16:50:00.365028Z",
     "iopub.status.idle": "2021-01-31T16:50:00.377209Z",
     "shell.execute_reply": "2021-01-31T16:50:00.377209Z"
    }
   },
   "outputs": [
    {
     "data": {
      "text/plain": [
       "10.0"
      ]
     },
     "execution_count": 1,
     "metadata": {},
     "output_type": "execute_result"
    }
   ],
   "source": [
    "math.sqrt(100)"
   ]
  },
  {
   "cell_type": "markdown",
   "id": "portuguese-dominant",
   "metadata": {},
   "source": [
    "You might wonder why the result displayed as `10.0` and not simply as `10`; in Module 2 we will see that these are two different *types* of numbers in the Python language. The former is called a floating-point number, indicating the presence of its decimal point, whereas the latter is an integer. The `math.sqrt` function is defined such that it always returns its results as floating-point numbers.\n",
    "\n",
    "In the case that we want to make frequent use of a certain function from the math module, it'd be nice to avoid having to type out the math module prefix, `math.`, repeatedly. We can accomplish this by importing an individual function from the math module. Let's import the factorial function from the math module."
   ]
  },
  {
   "cell_type": "code",
   "execution_count": 7,
   "id": "dental-cooperative",
   "metadata": {
    "execution": {
     "iopub.execute_input": "2021-01-31T16:50:00.380563Z",
     "iopub.status.busy": "2021-01-31T16:50:00.379524Z",
     "iopub.status.idle": "2021-01-31T16:50:00.392401Z",
     "shell.execute_reply": "2021-01-31T16:50:00.392401Z"
    }
   },
   "outputs": [],
   "source": [
    "from math import factorial"
   ]
  },
  {
   "cell_type": "markdown",
   "id": "injured-bishop",
   "metadata": {},
   "source": [
    "We can now make use of the `factorial` function in our code. Recall that 5-factorial is $5! = 5\\times 4\\times 3\\times 2\\times 1 = 120$  "
   ]
  },
  {
   "cell_type": "code",
   "execution_count": 8,
   "id": "french-postage",
   "metadata": {
    "execution": {
     "iopub.execute_input": "2021-01-31T16:50:00.395405Z",
     "iopub.status.busy": "2021-01-31T16:50:00.395405Z",
     "iopub.status.idle": "2021-01-31T16:50:00.407392Z",
     "shell.execute_reply": "2021-01-31T16:50:00.408392Z"
    }
   },
   "outputs": [
    {
     "data": {
      "text/plain": [
       "120"
      ]
     },
     "execution_count": 1,
     "metadata": {},
     "output_type": "execute_result"
    }
   ],
   "source": [
    "factorial(5)"
   ]
  },
  {
   "cell_type": "markdown",
   "id": "sunrise-crystal",
   "metadata": {},
   "source": [
    "## Messing with Strings\n",
    "In the context of code, written text is referred to as a string of characters, or string for short. Python is an excellent language for doing text-processing work as it provides many convenient, efficient functions for working with strings. \n",
    "\n",
    "To begin, we simply form a string by typing characters between quotation marks:"
   ]
  },
  {
   "cell_type": "code",
   "execution_count": 9,
   "id": "decent-vienna",
   "metadata": {
    "execution": {
     "iopub.execute_input": "2021-01-31T16:50:00.411393Z",
     "iopub.status.busy": "2021-01-31T16:50:00.410393Z",
     "iopub.status.idle": "2021-01-31T16:50:00.422665Z",
     "shell.execute_reply": "2021-01-31T16:50:00.423668Z"
    }
   },
   "outputs": [
    {
     "data": {
      "text/plain": [
       "'the cat in the hat'"
      ]
     },
     "execution_count": 1,
     "metadata": {},
     "output_type": "execute_result"
    }
   ],
   "source": [
    "\"the cat in the hat\""
   ]
  },
  {
   "cell_type": "markdown",
   "id": "attended-binding",
   "metadata": {},
   "source": [
    "Single quotes also work:"
   ]
  },
  {
   "cell_type": "code",
   "execution_count": 10,
   "id": "plastic-dinner",
   "metadata": {
    "execution": {
     "iopub.execute_input": "2021-01-31T16:50:00.425679Z",
     "iopub.status.busy": "2021-01-31T16:50:00.425679Z",
     "iopub.status.idle": "2021-01-31T16:50:00.438404Z",
     "shell.execute_reply": "2021-01-31T16:50:00.439432Z"
    }
   },
   "outputs": [
    {
     "data": {
      "text/plain": [
       "'the dog in the sash'"
      ]
     },
     "execution_count": 1,
     "metadata": {},
     "output_type": "execute_result"
    }
   ],
   "source": [
    "'the dog in the sash'"
   ]
  },
  {
   "cell_type": "markdown",
   "id": "derived-vegetable",
   "metadata": {},
   "source": [
    "If you use single quotes to form a string, then that string is able to contain the double-quote as a character (and vice versa):"
   ]
  },
  {
   "cell_type": "code",
   "execution_count": 11,
   "id": "weird-toyota",
   "metadata": {
    "execution": {
     "iopub.execute_input": "2021-01-31T16:50:00.442406Z",
     "iopub.status.busy": "2021-01-31T16:50:00.441405Z",
     "iopub.status.idle": "2021-01-31T16:50:00.453656Z",
     "shell.execute_reply": "2021-01-31T16:50:00.453656Z"
    }
   },
   "outputs": [
    {
     "data": {
      "text/plain": [
       "'He picked up the phone, \"Hello? What do you want?\" Bob was a rather impolite dude.'"
      ]
     },
     "execution_count": 1,
     "metadata": {},
     "output_type": "execute_result"
    }
   ],
   "source": [
    "'He picked up the phone, \"Hello? What do you want?\" Bob was a rather impolite dude.'"
   ]
  },
  {
   "cell_type": "markdown",
   "id": "minor-donor",
   "metadata": {},
   "source": [
    "There are designated special characters that allow us to affect the way a string is formatted when it is printed to the string. For example, if `\\n` ever occurs in a string, it is treated as a single character that indicates a line-break. This will only manifest if such a string is fed to the built-in `print` function, which informs the computer to print text to a user's screen.\n",
    "\n",
    "Let's create a string that will display as three separate lines, when printed to the screen."
   ]
  },
  {
   "cell_type": "code",
   "execution_count": 12,
   "id": "excessive-seller",
   "metadata": {
    "execution": {
     "iopub.execute_input": "2021-01-31T16:50:00.456656Z",
     "iopub.status.busy": "2021-01-31T16:50:00.456656Z",
     "iopub.status.idle": "2021-01-31T16:50:00.469992Z",
     "shell.execute_reply": "2021-01-31T16:50:00.468987Z"
    }
   },
   "outputs": [
    {
     "name": "stdout",
     "output_type": "stream",
     "text": [
      "I like to talk to dogs.\n",
      "I like to talk to cats.\n",
      "What's my deal?\n"
     ]
    }
   ],
   "source": [
    "print(\"I like to talk to dogs.\\nI like to talk to cats.\\nWhat's my deal?\")"
   ]
  },
  {
   "cell_type": "markdown",
   "id": "acquired-criminal",
   "metadata": {},
   "source": [
    "Of course, strings are useful beyond merely containing text! Let's explore some ways to manipulate strings. First, we'll write a string and assign it to a variable named `sentence`:"
   ]
  },
  {
   "cell_type": "code",
   "execution_count": 13,
   "id": "powered-musical",
   "metadata": {
    "execution": {
     "iopub.execute_input": "2021-01-31T16:50:00.473013Z",
     "iopub.status.busy": "2021-01-31T16:50:00.471986Z",
     "iopub.status.idle": "2021-01-31T16:50:00.486313Z",
     "shell.execute_reply": "2021-01-31T16:50:00.485314Z"
    }
   },
   "outputs": [],
   "source": [
    "sentence = \"Who would have thought that we were robots all along?\""
   ]
  },
  {
   "cell_type": "markdown",
   "id": "loving-observer",
   "metadata": {},
   "source": [
    "Let's see how many characters are in this string by checking the \"length\" of this sequence of characters:"
   ]
  },
  {
   "cell_type": "code",
   "execution_count": 14,
   "id": "annual-interest",
   "metadata": {
    "execution": {
     "iopub.execute_input": "2021-01-31T16:50:00.490314Z",
     "iopub.status.busy": "2021-01-31T16:50:00.489339Z",
     "iopub.status.idle": "2021-01-31T16:50:00.499478Z",
     "shell.execute_reply": "2021-01-31T16:50:00.500477Z"
    }
   },
   "outputs": [
    {
     "data": {
      "text/plain": [
       "53"
      ]
     },
     "execution_count": 1,
     "metadata": {},
     "output_type": "execute_result"
    }
   ],
   "source": [
    "len(sentence)"
   ]
  },
  {
   "cell_type": "markdown",
   "id": "tropical-inspector",
   "metadata": {},
   "source": [
    "We can access the first 4 characters in the string, the last 6 characters, or a few characters in the middle by \"slicing\" the string:"
   ]
  },
  {
   "cell_type": "code",
   "execution_count": 15,
   "id": "german-amsterdam",
   "metadata": {
    "execution": {
     "iopub.execute_input": "2021-01-31T16:50:00.503477Z",
     "iopub.status.busy": "2021-01-31T16:50:00.502477Z",
     "iopub.status.idle": "2021-01-31T16:50:00.515497Z",
     "shell.execute_reply": "2021-01-31T16:50:00.516525Z"
    }
   },
   "outputs": [
    {
     "data": {
      "text/plain": [
       "'Who '"
      ]
     },
     "execution_count": 1,
     "metadata": {},
     "output_type": "execute_result"
    }
   ],
   "source": [
    "sentence[:4]"
   ]
  },
  {
   "cell_type": "code",
   "execution_count": 16,
   "id": "fewer-victory",
   "metadata": {
    "execution": {
     "iopub.execute_input": "2021-01-31T16:50:00.519500Z",
     "iopub.status.busy": "2021-01-31T16:50:00.518498Z",
     "iopub.status.idle": "2021-01-31T16:50:00.530851Z",
     "shell.execute_reply": "2021-01-31T16:50:00.530851Z"
    }
   },
   "outputs": [
    {
     "data": {
      "text/plain": [
       "'along?'"
      ]
     },
     "execution_count": 1,
     "metadata": {},
     "output_type": "execute_result"
    }
   ],
   "source": [
    "sentence[-6:]"
   ]
  },
  {
   "cell_type": "code",
   "execution_count": 17,
   "id": "independent-tomato",
   "metadata": {
    "execution": {
     "iopub.execute_input": "2021-01-31T16:50:00.533851Z",
     "iopub.status.busy": "2021-01-31T16:50:00.533851Z",
     "iopub.status.idle": "2021-01-31T16:50:00.545895Z",
     "shell.execute_reply": "2021-01-31T16:50:00.546924Z"
    }
   },
   "outputs": [
    {
     "data": {
      "text/plain": [
       "'ould have thought'"
      ]
     },
     "execution_count": 1,
     "metadata": {},
     "output_type": "execute_result"
    }
   ],
   "source": [
    "sentence[5:22]"
   ]
  },
  {
   "cell_type": "markdown",
   "id": "applied-struggle",
   "metadata": {},
   "source": [
    "We can also check to see if some other string is contained within our string. Is the string `\"robot\"` contained within `sentence`?"
   ]
  },
  {
   "cell_type": "code",
   "execution_count": 18,
   "id": "illegal-consciousness",
   "metadata": {
    "execution": {
     "iopub.execute_input": "2021-01-31T16:50:00.549923Z",
     "iopub.status.busy": "2021-01-31T16:50:00.548926Z",
     "iopub.status.idle": "2021-01-31T16:50:00.561293Z",
     "shell.execute_reply": "2021-01-31T16:50:00.562294Z"
    }
   },
   "outputs": [
    {
     "data": {
      "text/plain": [
       "True"
      ]
     },
     "execution_count": 1,
     "metadata": {},
     "output_type": "execute_result"
    }
   ],
   "source": [
    "\"robot\" in sentence"
   ]
  },
  {
   "cell_type": "markdown",
   "id": "incident-wellington",
   "metadata": {},
   "source": [
    "As a quick way to check out the built-in functions that strings have available to them, we can make use of IPython's autocompletion feature once again. Type `sentence.` (including the trailing period) and then hit `<TAB>`. A menu of functions should appear as so:"
   ]
  },
  {
   "cell_type": "markdown",
   "id": "hawaiian-retreat",
   "metadata": {},
   "source": [
    "![Built-in functions for a string](attachments/ipython_string.PNG)"
   ]
  },
  {
   "cell_type": "markdown",
   "id": "celtic-manchester",
   "metadata": {},
   "source": [
    "Let's use the count function to tally the number of lowercase w's in `sentence`"
   ]
  },
  {
   "cell_type": "code",
   "execution_count": 19,
   "id": "stuffed-emission",
   "metadata": {
    "execution": {
     "iopub.execute_input": "2021-01-31T16:50:00.565294Z",
     "iopub.status.busy": "2021-01-31T16:50:00.564294Z",
     "iopub.status.idle": "2021-01-31T16:50:00.578242Z",
     "shell.execute_reply": "2021-01-31T16:50:00.577241Z"
    }
   },
   "outputs": [
    {
     "data": {
      "text/plain": [
       "3"
      ]
     },
     "execution_count": 1,
     "metadata": {},
     "output_type": "execute_result"
    }
   ],
   "source": [
    "sentence.count('w')"
   ]
  },
  {
   "cell_type": "markdown",
   "id": "mediterranean-context",
   "metadata": {},
   "source": [
    "Let's see what the replace function does. IPython provides a great utility for looking up the documentation for a function by simply putting two question marks after the function name. For example:\n",
    "\n",
    "![Looking up documentation for a function](attachments/ipython_doc1.PNG)\n",
    "\n",
    "Putting our newfound understanding of the string's replace function, let's replace \"robot\" with \"computer\":"
   ]
  },
  {
   "cell_type": "code",
   "execution_count": 20,
   "id": "headed-fourth",
   "metadata": {
    "execution": {
     "iopub.execute_input": "2021-01-31T16:50:00.581242Z",
     "iopub.status.busy": "2021-01-31T16:50:00.580279Z",
     "iopub.status.idle": "2021-01-31T16:50:00.592411Z",
     "shell.execute_reply": "2021-01-31T16:50:00.593437Z"
    }
   },
   "outputs": [
    {
     "data": {
      "text/plain": [
       "'Who would have thought that we were computers all along?'"
      ]
     },
     "execution_count": 1,
     "metadata": {},
     "output_type": "execute_result"
    }
   ],
   "source": [
    "sentence.replace(\"robot\", \"computer\")"
   ]
  },
  {
   "cell_type": "markdown",
   "id": "geographic-latitude",
   "metadata": {},
   "source": [
    "## Playing with Lists\n",
    "A list is one of several types of containers that are built into Python's standard library. It can hold a sequence of Python objects. We can create a list of numbers: "
   ]
  },
  {
   "cell_type": "code",
   "execution_count": 21,
   "id": "naked-trigger",
   "metadata": {
    "execution": {
     "iopub.execute_input": "2021-01-31T16:50:00.596409Z",
     "iopub.status.busy": "2021-01-31T16:50:00.595408Z",
     "iopub.status.idle": "2021-01-31T16:50:00.607247Z",
     "shell.execute_reply": "2021-01-31T16:50:00.608276Z"
    }
   },
   "outputs": [
    {
     "data": {
      "text/plain": [
       "[-1, 0.3333333333333333, 20, 6]"
      ]
     },
     "execution_count": 1,
     "metadata": {},
     "output_type": "execute_result"
    }
   ],
   "source": [
    "[-1, 1/3, 10*2, 7-1]"
   ]
  },
  {
   "cell_type": "markdown",
   "id": "decent-johnson",
   "metadata": {},
   "source": [
    "A list can contain any type of Python object; it can store a mix of numbers, strings, other lists, and much more!"
   ]
  },
  {
   "cell_type": "code",
   "execution_count": 22,
   "id": "civil-triangle",
   "metadata": {
    "execution": {
     "iopub.execute_input": "2021-01-31T16:50:00.611273Z",
     "iopub.status.busy": "2021-01-31T16:50:00.610275Z",
     "iopub.status.idle": "2021-01-31T16:50:00.623476Z",
     "shell.execute_reply": "2021-01-31T16:50:00.622452Z"
    }
   },
   "outputs": [
    {
     "data": {
      "text/plain": [
       "[1, 2, 'a', 0.5, 'apple and orange']"
      ]
     },
     "execution_count": 1,
     "metadata": {},
     "output_type": "execute_result"
    }
   ],
   "source": [
    "[1, 2, \"a\", 0.5, \"apple and orange\"]"
   ]
  },
  {
   "cell_type": "markdown",
   "id": "mediterranean-korea",
   "metadata": {},
   "source": [
    "You can join lists together, which is known as concatenation."
   ]
  },
  {
   "cell_type": "code",
   "execution_count": 23,
   "id": "specialized-groove",
   "metadata": {
    "execution": {
     "iopub.execute_input": "2021-01-31T16:50:00.626450Z",
     "iopub.status.busy": "2021-01-31T16:50:00.625451Z",
     "iopub.status.idle": "2021-01-31T16:50:00.638620Z",
     "shell.execute_reply": "2021-01-31T16:50:00.637617Z"
    }
   },
   "outputs": [
    {
     "data": {
      "text/plain": [
       "[1, 2, 3, 'a', 'b', 'c']"
      ]
     },
     "execution_count": 1,
     "metadata": {},
     "output_type": "execute_result"
    }
   ],
   "source": [
    "[1, 2, 3] + [\"a\", \"b\", \"c\"]"
   ]
  },
  {
   "cell_type": "markdown",
   "id": "spare-sucking",
   "metadata": {},
   "source": [
    "Like a string, a list is sequential in nature and we can access the items in a list by specifying its position in the sequence. This is known as \"indexing\" the list; the index of the first item in a sequence is always 0."
   ]
  },
  {
   "cell_type": "code",
   "execution_count": 24,
   "id": "subtle-upgrade",
   "metadata": {
    "execution": {
     "iopub.execute_input": "2021-01-31T16:50:00.640619Z",
     "iopub.status.busy": "2021-01-31T16:50:00.640619Z",
     "iopub.status.idle": "2021-01-31T16:50:00.653891Z",
     "shell.execute_reply": "2021-01-31T16:50:00.652888Z"
    }
   },
   "outputs": [],
   "source": [
    "my_list = [10, 20, 30, 40, 50, 60]"
   ]
  },
  {
   "cell_type": "code",
   "execution_count": 25,
   "id": "christian-consistency",
   "metadata": {
    "execution": {
     "iopub.execute_input": "2021-01-31T16:50:00.656887Z",
     "iopub.status.busy": "2021-01-31T16:50:00.655917Z",
     "iopub.status.idle": "2021-01-31T16:50:00.669278Z",
     "shell.execute_reply": "2021-01-31T16:50:00.668250Z"
    }
   },
   "outputs": [
    {
     "data": {
      "text/plain": [
       "10"
      ]
     },
     "execution_count": 1,
     "metadata": {},
     "output_type": "execute_result"
    }
   ],
   "source": [
    "my_list[0]"
   ]
  },
  {
   "cell_type": "code",
   "execution_count": 26,
   "id": "charming-furniture",
   "metadata": {
    "execution": {
     "iopub.execute_input": "2021-01-31T16:50:00.672252Z",
     "iopub.status.busy": "2021-01-31T16:50:00.672252Z",
     "iopub.status.idle": "2021-01-31T16:50:00.685082Z",
     "shell.execute_reply": "2021-01-31T16:50:00.684082Z"
    }
   },
   "outputs": [
    {
     "data": {
      "text/plain": [
       "20"
      ]
     },
     "execution_count": 1,
     "metadata": {},
     "output_type": "execute_result"
    }
   ],
   "source": [
    "my_list[1]"
   ]
  },
  {
   "cell_type": "markdown",
   "id": "secret-detection",
   "metadata": {},
   "source": [
    "Negative integers can be used to index relative to the end (right-side) of the list."
   ]
  },
  {
   "cell_type": "code",
   "execution_count": 27,
   "id": "miniature-collar",
   "metadata": {
    "execution": {
     "iopub.execute_input": "2021-01-31T16:50:00.688086Z",
     "iopub.status.busy": "2021-01-31T16:50:00.688086Z",
     "iopub.status.idle": "2021-01-31T16:50:00.699458Z",
     "shell.execute_reply": "2021-01-31T16:50:00.700487Z"
    }
   },
   "outputs": [
    {
     "data": {
      "text/plain": [
       "60"
      ]
     },
     "execution_count": 1,
     "metadata": {},
     "output_type": "execute_result"
    }
   ],
   "source": [
    "my_list[-1]"
   ]
  },
  {
   "cell_type": "markdown",
   "id": "classified-coalition",
   "metadata": {},
   "source": [
    "You can change an entry in a list by assigning it to a new value."
   ]
  },
  {
   "cell_type": "code",
   "execution_count": 28,
   "id": "nasty-relaxation",
   "metadata": {
    "execution": {
     "iopub.execute_input": "2021-01-31T16:50:00.703462Z",
     "iopub.status.busy": "2021-01-31T16:50:00.703462Z",
     "iopub.status.idle": "2021-01-31T16:50:00.715642Z",
     "shell.execute_reply": "2021-01-31T16:50:00.716667Z"
    }
   },
   "outputs": [
    {
     "data": {
      "text/plain": [
       "False"
      ]
     },
     "execution_count": 1,
     "metadata": {},
     "output_type": "execute_result"
    }
   ],
   "source": [
    "-5 in my_list"
   ]
  },
  {
   "cell_type": "code",
   "execution_count": 29,
   "id": "frozen-drilling",
   "metadata": {
    "execution": {
     "iopub.execute_input": "2021-01-31T16:50:00.718641Z",
     "iopub.status.busy": "2021-01-31T16:50:00.718641Z",
     "iopub.status.idle": "2021-01-31T16:50:00.731089Z",
     "shell.execute_reply": "2021-01-31T16:50:00.732119Z"
    }
   },
   "outputs": [],
   "source": [
    "my_list[1] = -5"
   ]
  },
  {
   "cell_type": "code",
   "execution_count": 30,
   "id": "worst-notification",
   "metadata": {
    "execution": {
     "iopub.execute_input": "2021-01-31T16:50:00.735090Z",
     "iopub.status.busy": "2021-01-31T16:50:00.735090Z",
     "iopub.status.idle": "2021-01-31T16:50:00.747090Z",
     "shell.execute_reply": "2021-01-31T16:50:00.748115Z"
    }
   },
   "outputs": [
    {
     "data": {
      "text/plain": [
       "[10, -5, 30, 40, 50, 60]"
      ]
     },
     "execution_count": 1,
     "metadata": {},
     "output_type": "execute_result"
    }
   ],
   "source": [
    "my_list"
   ]
  },
  {
   "cell_type": "code",
   "execution_count": 31,
   "id": "widespread-object",
   "metadata": {
    "execution": {
     "iopub.execute_input": "2021-01-31T16:50:00.751091Z",
     "iopub.status.busy": "2021-01-31T16:50:00.751091Z",
     "iopub.status.idle": "2021-01-31T16:50:00.763444Z",
     "shell.execute_reply": "2021-01-31T16:50:00.762417Z"
    }
   },
   "outputs": [
    {
     "data": {
      "text/plain": [
       "True"
      ]
     },
     "execution_count": 1,
     "metadata": {},
     "output_type": "execute_result"
    }
   ],
   "source": [
    "-5 in my_list"
   ]
  },
  {
   "cell_type": "markdown",
   "id": "sexual-nigeria",
   "metadata": {},
   "source": [
    "We can also access multiple items in a list at once by slicing the list, like we did with the string."
   ]
  },
  {
   "cell_type": "code",
   "execution_count": 32,
   "id": "variable-trash",
   "metadata": {
    "execution": {
     "iopub.execute_input": "2021-01-31T16:50:00.766417Z",
     "iopub.status.busy": "2021-01-31T16:50:00.765446Z",
     "iopub.status.idle": "2021-01-31T16:50:00.779394Z",
     "shell.execute_reply": "2021-01-31T16:50:00.779394Z"
    }
   },
   "outputs": [
    {
     "data": {
      "text/plain": [
       "[10, -5, 30]"
      ]
     },
     "execution_count": 1,
     "metadata": {},
     "output_type": "execute_result"
    }
   ],
   "source": [
    "my_list[:3]"
   ]
  },
  {
   "cell_type": "markdown",
   "id": "intensive-python",
   "metadata": {},
   "source": [
    "This slice can be used to update the first three entries of the list"
   ]
  },
  {
   "cell_type": "code",
   "execution_count": 33,
   "id": "baking-impossible",
   "metadata": {
    "execution": {
     "iopub.execute_input": "2021-01-31T16:50:00.783394Z",
     "iopub.status.busy": "2021-01-31T16:50:00.782372Z",
     "iopub.status.idle": "2021-01-31T16:50:00.793881Z",
     "shell.execute_reply": "2021-01-31T16:50:00.794881Z"
    }
   },
   "outputs": [],
   "source": [
    "my_list[:3] = \"abc\""
   ]
  },
  {
   "cell_type": "code",
   "execution_count": 34,
   "id": "careful-arbor",
   "metadata": {
    "execution": {
     "iopub.execute_input": "2021-01-31T16:50:00.797881Z",
     "iopub.status.busy": "2021-01-31T16:50:00.797881Z",
     "iopub.status.idle": "2021-01-31T16:50:00.809294Z",
     "shell.execute_reply": "2021-01-31T16:50:00.810321Z"
    }
   },
   "outputs": [
    {
     "data": {
      "text/plain": [
       "['a', 'b', 'c', 40, 50, 60]"
      ]
     },
     "execution_count": 1,
     "metadata": {},
     "output_type": "execute_result"
    }
   ],
   "source": [
    "my_list"
   ]
  },
  {
   "cell_type": "markdown",
   "id": "editorial-stuff",
   "metadata": {},
   "source": [
    "To wrap up this quick demo, let's append an new entry to the end of this list."
   ]
  },
  {
   "cell_type": "code",
   "execution_count": 35,
   "id": "alert-forge",
   "metadata": {
    "execution": {
     "iopub.execute_input": "2021-01-31T16:50:00.813321Z",
     "iopub.status.busy": "2021-01-31T16:50:00.812292Z",
     "iopub.status.idle": "2021-01-31T16:50:00.826322Z",
     "shell.execute_reply": "2021-01-31T16:50:00.825292Z"
    }
   },
   "outputs": [],
   "source": [
    "my_list.append(\"moo\")"
   ]
  },
  {
   "cell_type": "code",
   "execution_count": 36,
   "id": "spectacular-indonesia",
   "metadata": {
    "execution": {
     "iopub.execute_input": "2021-01-31T16:50:00.829292Z",
     "iopub.status.busy": "2021-01-31T16:50:00.829292Z",
     "iopub.status.idle": "2021-01-31T16:50:00.841517Z",
     "shell.execute_reply": "2021-01-31T16:50:00.840487Z"
    }
   },
   "outputs": [
    {
     "data": {
      "text/plain": [
       "['a', 'b', 'c', 40, 50, 60, 'moo']"
      ]
     },
     "execution_count": 1,
     "metadata": {},
     "output_type": "execute_result"
    }
   ],
   "source": [
    "my_list"
   ]
  }
 ],
 "metadata": {
  "jupytext": {
   "text_representation": {
    "extension": ".md",
    "format_name": "markdown",
    "format_version": "1.2",
    "jupytext_version": "1.9.1"
   }
  },
  "kernelspec": {
   "display_name": "Python 3",
   "language": "python",
   "name": "python3"
  },
  "language_info": {
   "codemirror_mode": {
    "name": "ipython",
    "version": 3
   },
   "file_extension": ".py",
   "mimetype": "text/x-python",
   "name": "python",
   "nbconvert_exporter": "python",
   "pygments_lexer": "ipython3",
   "version": "3.8.5"
  }
 },
 "nbformat": 4,
 "nbformat_minor": 5
}
